{
 "cells": [
  {
   "cell_type": "markdown",
   "id": "1629c3c9",
   "metadata": {},
   "source": [
    "#  My Jupyter Notebook on IBM Waston Studio"
   ]
  },
  {
   "cell_type": "markdown",
   "id": "26958fa4",
   "metadata": {},
   "source": [
    "**Rui Pei**\n",
    "Current Role:APAC GE90 Customer Technical Program Engineer GE Aviation\n",
    "Desired Role: MRO Program Manager GE Aviation"
   ]
  },
  {
   "cell_type": "markdown",
   "id": "d4b57558",
   "metadata": {},
   "source": [
    "* I am interested in data science because I was experienced the data science bring the great value to GE Aviation customers through my daily work, and I am inspired by the amazing techology and feel I will be lagging behind in future if I could not understand the data scientist*"
   ]
  },
  {
   "cell_type": "markdown",
   "id": "b6561e57",
   "metadata": {},
   "source": [
    "### Import popular package in data scientist"
   ]
  },
  {
   "cell_type": "code",
   "execution_count": null,
   "id": "2c78b9ef",
   "metadata": {},
   "outputs": [],
   "source": [
    "import pandas as pd\n",
    "import numpy as np\n",
    "\n",
    "%matplotlib inline \n",
    "import matplotlib as mpl\n",
    "import matplotlib.pyplot as plt"
   ]
  },
  {
   "cell_type": "markdown",
   "id": "0e889804",
   "metadata": {},
   "source": [
    "* This is a bullet list\n",
    "* This is a bullet list\n",
    "* This is a bullet list\n",
    "\n",
    "***\n",
    "\n",
    "Here is some important text!\n",
    "\n",
    "***\n",
    "\n",
    "IBM Data Scientist Course in Coursera at <a href=\"https://www.coursera.org/professional-certificates/ibm-data-science\" target=\"_blank\">this link</a>"
   ]
  }
 ],
 "metadata": {
  "kernelspec": {
   "display_name": "Python 3 (ipykernel)",
   "language": "python",
   "name": "python3"
  },
  "language_info": {
   "codemirror_mode": {
    "name": "ipython",
    "version": 3
   },
   "file_extension": ".py",
   "mimetype": "text/x-python",
   "name": "python",
   "nbconvert_exporter": "python",
   "pygments_lexer": "ipython3",
   "version": "3.9.7"
  }
 },
 "nbformat": 4,
 "nbformat_minor": 5
}
